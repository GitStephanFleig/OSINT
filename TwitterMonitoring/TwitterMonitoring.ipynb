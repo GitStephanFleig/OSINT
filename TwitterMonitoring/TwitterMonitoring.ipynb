{
 "cells": [
  {
   "cell_type": "markdown",
   "metadata": {
    "collapsed": true
   },
   "source": [
    "# Twitter Hashtag Monitoring\n",
    "#### September 2017 "
   ]
  },
  {
   "cell_type": "markdown",
   "metadata": {},
   "source": [
    "## Description\n",
    "\n",
    "- Monitoring a Twitter Hashtag, e.g. #Berlin\n",
    "- An alert is launched if keywords appear more often than a preset threshold.\n",
    "- Alert: Email with the text of the tweets containing the keywords is sent\n",
    "- The program stops as soon as an alert is sent\n",
    "\n",
    "## Technology used\n",
    "\n",
    "- Twitter API (Streaming API)\n",
    "    - Filtering the stream for keywords, e.g. hashtag #Berlin\n",
    "    - Filtering for language of the tweets: e.g. english and german\n",
    "- SQLITE Database for storing the tweets containing the keywords\n",
    "    - Table \"TWEETS\" with the following columns:\n",
    "        - ID of the tweet\n",
    "        - a timestamp\n",
    "        - Screen name of the user\n",
    "        - the content of the tweet\n",
    "- SMTPLIB Package for sending emails\n",
    "    - sending a text message with the pure text of the tweets for easier understanding\n",
    "    - Subject: \"Berlin Alert\"\n",
    "    - Email can be sent to different recipients\n",
    "\n",
    "## Limitations\n",
    "\n",
    "- Each account may create only one standing connection to the public endpoints, and connecting to a public stream more than once with the same account credentials will cause the oldest connection to be disconnected. Clients which make excessive connection attempts (both successful and unsuccessful) run the risk of having their IP automatically banned.\n",
    "- I had regularily \"connection limit exceeded\" errors due to frequent testing of the stream and my code. A workaround was it to use a second pair of API keys when the first one was temporarily blocked, until the original stream has been reset by twitter.\n",
    "- Further limitations apply with receiving a high number of tweets\n",
    "\n",
    "## Further development\n",
    "\n",
    "- Shiny Web App providing more detailed and updated information (useful as soon as the alert message is sent)\n",
    "    - e.g. providing the links which are part of the content of the tweets\n",
    "    - e.g. providing a current stream of the text of the tweets coming in in realtime\n",
    "    - e.g. providing a map indicating the user's location posting the tweets\n",
    "- A more sophisticated approach to the threshold using statistical analysis\n",
    "    - Necessary: Collecting/analyzing data for a set of keywords over an extended period of time\n"
   ]
  },
  {
   "cell_type": "markdown",
   "metadata": {},
   "source": [
    "## Preparations before running the code\n",
    "\n",
    "- Set your working directory and adapt the link to it in the \"Preparing Twitter API\" section below\n",
    "- Create twitter_api_keys.txt with your API keys in your working directory\n",
    "- Create mailserver.txt with your googlemail address and password in your working directory\n",
    "- Install Sqlite on your machine and create \"monitoring.db\" database in your working directory"
   ]
  },
  {
   "cell_type": "markdown",
   "metadata": {},
   "source": [
    "## How to run the code\n",
    "\n",
    "- Run the \"Importing packages\" section\n",
    "- Run the \"Preparing Twitter API\" section\n",
    "- Run the cells of all functions below to source them into memory\n",
    "- Run the \"initiate_sqlite()\" function to create a table \"TWEETS\" in the database\n",
    "- Run the \"start_stream()\" function to start the monitoring"
   ]
  },
  {
   "cell_type": "markdown",
   "metadata": {},
   "source": [
    "### Importing packages"
   ]
  },
  {
   "cell_type": "code",
   "execution_count": null,
   "metadata": {},
   "outputs": [],
   "source": [
    "# Importing this just for fun!\n",
    "import this\n",
    "# Import twitter package\n",
    "import twitter \n",
    "# Import json package\n",
    "import json\n",
    "# Import sqlite3 package\n",
    "import sqlite3\n",
    "# Import smtplib and related packages\n",
    "import smtplib\n",
    "import email\n",
    "from email.mime.text import MIMEText\n",
    "# Import re package\n",
    "import re\n",
    "# Import time package\n",
    "import time\n",
    "# Import sys package\n",
    "import sys"
   ]
  },
  {
   "cell_type": "markdown",
   "metadata": {},
   "source": [
    "### Preparing Twitter API"
   ]
  },
  {
   "cell_type": "code",
   "execution_count": null,
   "metadata": {},
   "outputs": [],
   "source": [
    "# Setting up working directory\n",
    "%cd \"C:\\workingdirectory\"\n",
    "    \n",
    "# Reading in API Keys\n",
    "with open(\"twitter_api_keys.txt\", 'r') as i:\n",
    "    keys = i.read().split()\n",
    "    \n",
    "# Reading Keys into Twitter API\n",
    "api = twitter.Api(consumer_key = keys[0],\n",
    "                consumer_secret = keys[1],\n",
    "                access_token_key = keys[2],\n",
    "                access_token_secret= keys[3])"
   ]
  },
  {
   "cell_type": "markdown",
   "metadata": {},
   "source": [
    "## SQLITE "
   ]
  },
  {
   "cell_type": "markdown",
   "metadata": {},
   "source": [
    "### Function: initiate sqlite3 database "
   ]
  },
  {
   "cell_type": "code",
   "execution_count": null,
   "metadata": {
    "collapsed": true
   },
   "outputs": [],
   "source": [
    "def initiate_sqlite():\n",
    "\n",
    "    # Connecting to \"monitoring\" database already set before up using sqlite3\n",
    "    conn = sqlite3.connect(\"monitoring.db\")\n",
    "    \n",
    "    # Adding \"TWEETS\" table to the database\n",
    "    conn.execute('''CREATE TABLE TWEETS (ID TEXT PRIMARY KEY,\n",
    "                 TIME DATE,\n",
    "                 NAME TEXT, \n",
    "                 COORD1 REAL,\n",
    "                 COORD2 REAL,\n",
    "                 CONTENT TEXT);''')\n",
    "    \n",
    "    conn.commit()\n",
    "    conn.close()\n",
    "    \n",
    "    return"
   ]
  },
  {
   "cell_type": "markdown",
   "metadata": {},
   "source": [
    "### Function: write to sqlite3 database table"
   ]
  },
  {
   "cell_type": "code",
   "execution_count": null,
   "metadata": {
    "collapsed": true
   },
   "outputs": [],
   "source": [
    "def sqlite_write(twitter_id, screen_name_of_user, coord1, coord2, text_of_tweet):\n",
    "    \n",
    "    # Connecting to \"monitoring\" database already set up before using sqlite3\n",
    "    conn = sqlite3.connect(\"monitoring.db\")\n",
    "    \n",
    "    # Insert Query \"TWEETS\" table and excecuting the command\n",
    "    # using a sqlite timestamp for the time column\n",
    "    command = \"INSERT INTO TWEETS VALUES ('\"+twitter_id+\"',datetime('now', 'localtime'),'\"+screen_name_of_user+\"','\"+str(coord1)+\"','\"+str(coord2)+\"', '\"+text_of_tweet+\"');\"\n",
    "    conn.execute(command)\n",
    "    \n",
    "    # Commiting and closing the connection to the database\n",
    "    conn.commit()\n",
    "    conn.close()\n",
    "    \n",
    "    return"
   ]
  },
  {
   "cell_type": "markdown",
   "metadata": {},
   "source": [
    "### Function: read from sqlite3 database table "
   ]
  },
  {
   "cell_type": "code",
   "execution_count": null,
   "metadata": {
    "collapsed": true
   },
   "outputs": [],
   "source": [
    "def sqlite_read():\n",
    "    \n",
    "    # Connecting to \"monitoring\" database already set before up using sqlite3\n",
    "    conn = sqlite3.connect(\"monitoring.db\")\n",
    "    c = conn.cursor()\n",
    "    \n",
    "    # Select Query \"TWEETS\" table for the tweets added to the database in the last 10 minutes\n",
    "    command = \"SELECT * FROM TWEETS WHERE TIME BETWEEN datetime('now', 'localtime', '-10 minutes') AND datetime('now', 'localtime');\"\n",
    "    c.execute(command)\n",
    "    \n",
    "    # fetching the selected data into the rows list\n",
    "    rows = c.fetchall()\n",
    "    \n",
    "    # closing the connection to the database\n",
    "    conn.close()\n",
    "    \n",
    "    return rows"
   ]
  },
  {
   "cell_type": "markdown",
   "metadata": {},
   "source": [
    "### Function: count tweets from the last 10 minutes from sqlite3 database table"
   ]
  },
  {
   "cell_type": "code",
   "execution_count": null,
   "metadata": {
    "collapsed": true
   },
   "outputs": [],
   "source": [
    "def sqlite_count():\n",
    "    \n",
    "    # Connecting to \"monitoring\" database already set before up using sqlite3\n",
    "    conn = sqlite3.connect(\"monitoring.db\")\n",
    "    c = conn.cursor()\n",
    "    \n",
    "    # Select Query \"TWEETS\" table for the tweets added to the database in the last 10 minutes\n",
    "    \n",
    "    command = \"SELECT COUNT(*) FROM TWEETS WHERE TIME BETWEEN datetime('now', 'localtime', '-10 minutes') AND datetime('now', 'localtime');\"\n",
    "    c.execute(command)\n",
    "    \n",
    "    # fetching the count data\n",
    "    count = c.fetchall()\n",
    "    \n",
    "    # closing the connection to the database\n",
    "    conn.close()\n",
    "    \n",
    "    return count"
   ]
  },
  {
   "cell_type": "markdown",
   "metadata": {},
   "source": [
    "## SMTPLIB"
   ]
  },
  {
   "cell_type": "markdown",
   "metadata": {},
   "source": [
    "### Function: sending alert email"
   ]
  },
  {
   "cell_type": "code",
   "execution_count": null,
   "metadata": {
    "collapsed": true
   },
   "outputs": [],
   "source": [
    "def send_email():\n",
    "\n",
    "    # Reading in email address and password from text file\n",
    "    with open(\"mailserver.txt\", \"r\") as h:\n",
    "        data = h.read().split() \n",
    "        \n",
    "    mailaddress = data[0]\n",
    "    mailpassword = data[1]\n",
    "    \n",
    "    fromaddr = mailaddress\n",
    "    toaddrs  = mailaddress\n",
    "\n",
    "    # Reading in text file with text of tweets containing the keywords\n",
    "    with open(\"emailtext.txt\", \"r\") as fp:\n",
    "        msg = MIMEText(fp.read(), _subtype=\"plain\")\n",
    "    \n",
    "\n",
    "    # Preparing email properties like subject etc.\n",
    "    msg[\"From\"] = fromaddr\n",
    "    msg[\"To\"] = toaddrs\n",
    "    msg[\"Subject\"] = \"Berlin Alert\"\n",
    "    \n",
    "    # Sending the email using a Googlemail account\n",
    "    server = smtplib.SMTP(\"smtp.googlemail.com\", 587)\n",
    "    server.starttls()\n",
    "    server.login(mailaddress, mailpassword)\n",
    "    server.send_message(msg)\n",
    "    server.quit()\n",
    "    \n",
    "    return"
   ]
  },
  {
   "cell_type": "markdown",
   "metadata": {},
   "source": [
    "## Setting Threshold and launching alert email"
   ]
  },
  {
   "cell_type": "markdown",
   "metadata": {},
   "source": [
    "### Function: Threshold function"
   ]
  },
  {
   "cell_type": "code",
   "execution_count": null,
   "metadata": {
    "collapsed": true
   },
   "outputs": [],
   "source": [
    "def threshold():\n",
    "    \n",
    "    # Reading in the current count  \n",
    "    count = sqlite_count()[0][0]\n",
    "    \n",
    "    # Preset threshold of tweets within the last 10 minutes\n",
    "    # here set high to collect and save some tweets into the database before the alert is launched\n",
    "    if count > 1000:\n",
    "            \n",
    "        # reading the tweets from the last 10 minutes from the database    \n",
    "        results = sqlite_read()\n",
    "        \n",
    "        # writing the text of the tweets line by line in a text file\n",
    "        with open(\"emailtext.txt\", \"w\") as f:\n",
    "            for row in results:\n",
    "                f.write(row[3] + \"\\n\")\n",
    "                \n",
    "        # sending email with the text of the tweets\n",
    "        send_email()\n",
    "        \n",
    "        # stopping program when alert has been sent       \n",
    "        sys.exit()\n",
    "        \n",
    "    return"
   ]
  },
  {
   "cell_type": "markdown",
   "metadata": {},
   "source": [
    "## Stream API"
   ]
  },
  {
   "cell_type": "markdown",
   "metadata": {},
   "source": [
    "### Function: starting the tweet stream, saving  data to database and running the threshold"
   ]
  },
  {
   "cell_type": "code",
   "execution_count": null,
   "metadata": {
    "collapsed": true
   },
   "outputs": [],
   "source": [
    "def start_stream():\n",
    "    \n",
    "    # Define Hashtag+Keywords and languages for streaming API filter\n",
    "    \n",
    "    # e.g. [\"#Berlin terror\"] would be to filter for \"#Berlin\" AND \"terror\"\n",
    "    # e.g. [\"#Berlin terror, #Berlin terroranschlag, #Berlin anschlag\"]\n",
    "    # for easier testing we leave this with \"#Berlin\" only\n",
    "    hashtag_to_monitor = [\"#Berlin\"]\n",
    "    \n",
    "    # filtering for english and german language tweets only\n",
    "    LANGUAGES = [\"en\", \"de\"]\n",
    "    \n",
    "    # Connecting to stream\n",
    "    stream = api.GetStreamFilter(track=hashtag_to_monitor, languages=LANGUAGES)        \n",
    "        \n",
    "    # Going through the tweets delivered and saving the selected data to the database\n",
    "    try:\n",
    "        for tweet in stream:\n",
    "            \n",
    "            # make the tweet text suitable for saving in the database and sending by email\n",
    "            # e.g. removing links, having just text as output for easy readability\n",
    "            # and understanding. this also helps as a workaround to unsolved problems\n",
    "            # to send unicode messages by smtplib in python3\n",
    "            tweet[\"text\"] = re.sub(\"\\'\", \"\", tweet[\"text\"])\n",
    "            tweet[\"text\"] = re.sub(\"\\\"\", \"\\\\\\\"\", tweet[\"text\"])\n",
    "            tweet[\"text\"] = re.sub(\"\\s\", \" \", tweet[\"text\"])\n",
    "            tweet[\"text\"] = re.sub(\"http\\S+\", \"\", tweet[\"text\"])\n",
    "            tweet[\"text\"] = re.sub(\"\\W\", \" \", tweet[\"text\"])\n",
    "            \n",
    "            # calling the sqlite_write function and saving the data to the database\n",
    "            \n",
    "            if tweet[\"coordinates\"] != None:\n",
    "            \n",
    "                sqlite_write(tweet[\"id_str\"], tweet[\"user\"][\"screen_name\"], tweet[\"coordinates\"][\"coordinates\"][0], tweet[\"coordinates\"][\"coordinates\"][1],tweet[\"text\"])\n",
    "            else:\n",
    "                sqlite_write(tweet[\"id_str\"], tweet[\"user\"][\"screen_name\"], \"NULL\", \"NULL\", tweet[\"text\"])\n",
    "            \n",
    "            # calling threshold function to check if an alert has to be sent\n",
    "            threshold()\n",
    "            \n",
    "    except Exception as g:\n",
    "        print(\"Exception\", g)\n",
    "        \n",
    "    return"
   ]
  },
  {
   "cell_type": "code",
   "execution_count": null,
   "metadata": {
    "collapsed": true
   },
   "outputs": [],
   "source": [
    "initiate_sqlite()"
   ]
  },
  {
   "cell_type": "code",
   "execution_count": null,
   "metadata": {},
   "outputs": [],
   "source": [
    "start_stream()"
   ]
  },
  {
   "cell_type": "code",
   "execution_count": null,
   "metadata": {
    "collapsed": true
   },
   "outputs": [],
   "source": []
  }
 ],
 "metadata": {
  "kernelspec": {
   "display_name": "Python 3",
   "language": "python",
   "name": "python3"
  },
  "language_info": {
   "codemirror_mode": {
    "name": "ipython",
    "version": 3
   },
   "file_extension": ".py",
   "mimetype": "text/x-python",
   "name": "python",
   "nbconvert_exporter": "python",
   "pygments_lexer": "ipython3",
   "version": "3.6.2"
  }
 },
 "nbformat": 4,
 "nbformat_minor": 2
}
