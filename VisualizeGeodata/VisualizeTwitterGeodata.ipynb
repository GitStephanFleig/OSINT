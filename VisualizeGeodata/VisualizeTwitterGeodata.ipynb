{
 "cells": [
  {
   "cell_type": "markdown",
   "metadata": {},
   "source": [
    "# Visualize Twitter Geodata\n",
    "\n",
    "This script visualizes geodata collected with the TwitterMonitoring script using the folium package."
   ]
  },
  {
   "cell_type": "code",
   "execution_count": null,
   "metadata": {
    "collapsed": true
   },
   "outputs": [],
   "source": [
    "# Import sqlite3 package\n",
    "import sqlite3\n",
    "# Import folium package\n",
    "import folium\n",
    "# Import panda package\n",
    "import pandas as pd\n",
    "# Import webbrowser package\n",
    "import webbrowser"
   ]
  },
  {
   "cell_type": "code",
   "execution_count": null,
   "metadata": {},
   "outputs": [],
   "source": [
    "# Setting up working directory\n",
    "%cd \"C:\\workingdirectory\""
   ]
  },
  {
   "cell_type": "code",
   "execution_count": null,
   "metadata": {
    "collapsed": true
   },
   "outputs": [],
   "source": [
    "def sqlite_read():\n",
    "    \n",
    "    # Connecting to \"monitoring\" database where tweets data+geolocation is stored\n",
    "    conn = sqlite3.connect(\"monitoring.db\")\n",
    "    c = conn.cursor()\n",
    "    \n",
    "    # Select Query \"TWEETS\" table\n",
    "    command = \"SELECT NAME, COORD1, COORD2, CONTENT FROM TWEETS WHERE COORD1 IS NOT 'NULL';\"\n",
    "    c.execute(command)\n",
    "    \n",
    "    # fetching the selected data into the rows list\n",
    "    list = c.fetchall()\n",
    "    \n",
    "    # closing the connection to the database\n",
    "    conn.close()\n",
    "    \n",
    "    return list"
   ]
  },
  {
   "cell_type": "code",
   "execution_count": null,
   "metadata": {},
   "outputs": [],
   "source": [
    "# read data from sqlite database and store as dataframe\n",
    "list = sqlite_read()\n",
    "df = pd.DataFrame(list, columns = [\"screen_name\", \"longitude\", \"latitude\", \"text\"])\n",
    "\n",
    "def plotDots(dataframe):\n",
    "    # reading geodata into folium map\n",
    "    folium.CircleMarker(location=[float(dataframe.latitude), float(dataframe.longitude)],\n",
    "                        radius=6,\n",
    "                        popup = dataframe.screen_name+\": \"+dataframe.text,\n",
    "                        color = \"#070519\",\n",
    "                        fill=True,\n",
    "                        fill_color='#3186cc').add_to(twitter_map)\n",
    "\n",
    "# create folium map \n",
    "twitter_map = folium.Map(prefer_canvas=True)\n",
    "\n",
    "# Apply plotDot to dataframe\n",
    "df.apply(plotDots, axis = 1)\n",
    "\n",
    "# zoom in\n",
    "twitter_map.fit_bounds(twitter_map.get_bounds())\n",
    "\n",
    "# save map\n",
    "twitter_map.save('TwitterGeodataMap.html')\n",
    "# open html file in new tab\n",
    "webbrowser.open_new_tab('TwitterGeodataMap.html')"
   ]
  },
  {
   "cell_type": "code",
   "execution_count": null,
   "metadata": {
    "collapsed": true
   },
   "outputs": [],
   "source": []
  }
 ],
 "metadata": {
  "kernelspec": {
   "display_name": "Python 3",
   "language": "python",
   "name": "python3"
  },
  "language_info": {
   "codemirror_mode": {
    "name": "ipython",
    "version": 3
   },
   "file_extension": ".py",
   "mimetype": "text/x-python",
   "name": "python",
   "nbconvert_exporter": "python",
   "pygments_lexer": "ipython3",
   "version": "3.6.2"
  }
 },
 "nbformat": 4,
 "nbformat_minor": 2
}
